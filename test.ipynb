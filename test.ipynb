{
 "cells": [
  {
   "cell_type": "code",
   "execution_count": 1,
   "metadata": {},
   "outputs": [],
   "source": [
    "import numpy as np\n",
    "import tensorflow as tf\n",
    "import os"
   ]
  },
  {
   "cell_type": "code",
   "execution_count": 2,
   "metadata": {},
   "outputs": [],
   "source": [
    "inputs = [\n",
    "    \"new jersey is sometimes quiet during autumn , and it is snowy in april .\", # \"नई जर्सी कभी-कभी शरद ऋतु के दौरान शांत होती है, और यह अप्रैल में बर्फीली होती है।\"\n",
    "    \"the united states is usually chilly during july , and it is usually freezing in november .\", # संयुक्त राज्य आमतौर पर जुलाई के दौरान मिर्च होता है, और यह आमतौर पर नवम्बर में जम जाता है।\"\n",
    "    \"california is usually quiet during march , and it is usually hot in june .\", # \"कैलिफ़ोर्निया आमतौर पर मार्च के दौरान शांत होता है, और आमतौर पर जून में गर्म होता है।\"\n",
    "]"
   ]
  },
  {
   "cell_type": "code",
   "execution_count": 3,
   "metadata": {},
   "outputs": [
    {
     "name": "stdout",
     "output_type": "stream",
     "text": [
      "[PhysicalDevice(name='/physical_device:GPU:0', device_type='GPU')]\n",
      "WARNING:tensorflow:From C:\\Users\\anmol\\AppData\\Local\\Temp\\ipykernel_172156\\3418287714.py:2: is_gpu_available (from tensorflow.python.framework.test_util) is deprecated and will be removed in a future version.\n",
      "Instructions for updating:\n",
      "Use `tf.config.list_physical_devices('GPU')` instead.\n"
     ]
    },
    {
     "data": {
      "text/plain": [
       "True"
      ]
     },
     "execution_count": 3,
     "metadata": {},
     "output_type": "execute_result"
    }
   ],
   "source": [
    "print(tf.config.list_physical_devices('GPU'))\n",
    "tf.test.is_gpu_available(\n",
    "    cuda_only=True\n",
    ")"
   ]
  },
  {
   "cell_type": "code",
   "execution_count": 6,
   "metadata": {},
   "outputs": [],
   "source": [
    "load_options = tf.saved_model.LoadOptions(experimental_io_device='/job:localhost/replica:0/task:0/device:CPU:0')"
   ]
  },
  {
   "cell_type": "code",
   "execution_count": 9,
   "metadata": {},
   "outputs": [],
   "source": [
    "import tensorflow_text"
   ]
  },
  {
   "cell_type": "code",
   "execution_count": 17,
   "metadata": {},
   "outputs": [],
   "source": [
    "reloaded = tf.saved_model.load('./new_Translator')"
   ]
  },
  {
   "cell_type": "code",
   "execution_count": 11,
   "metadata": {},
   "outputs": [],
   "source": [
    "_ = reloaded.translate(tf.constant(inputs))"
   ]
  },
  {
   "cell_type": "code",
   "execution_count": 12,
   "metadata": {},
   "outputs": [
    {
     "name": "stdout",
     "output_type": "stream",
     "text": [
      "                                                 \n",
      "संयुक्त राज्य अमेरिका और यह [UNK] कि इससे ज्यादा है [UNK] [UNK]                                      \n",
      "                                                 \n",
      "\n"
     ]
    }
   ],
   "source": [
    "result = reloaded.translate(tf.constant(inputs))\n",
    "\n",
    "print(result[0].numpy().decode())\n",
    "print(result[1].numpy().decode())\n",
    "print(result[2].numpy().decode())\n",
    "print()"
   ]
  },
  {
   "cell_type": "code",
   "execution_count": 14,
   "metadata": {},
   "outputs": [],
   "source": [
    "\n",
    "inputs2 = [\n",
    "    \"china is usually rainy during spring , but it is never wet in may .\", # \"चीन में आमतौर पर वसंत के दौरान बारिश होती है, लेकिन यह कभी भी गीला नहीं हो सकता है।\"\n",
    "    \"india is sometimes pleasant during february , and it is usually beautiful in march .\", # \"भारत कभी-कभी फरवरी के दौरान सुखद होता है, और यह आमतौर पर मार्च में सुंदर होता है।\"\n",
    "    \"he drives that rusty white car .\", # \"वह उस जंग लगी सफेद कार को चलाता है।\"\n",
    "]"
   ]
  },
  {
   "cell_type": "code",
   "execution_count": 15,
   "metadata": {},
   "outputs": [
    {
     "name": "stdout",
     "output_type": "stream",
     "text": [
      "[UNK] [UNK] [UNK] के दौरान [UNK] उपर शायद [UNK] नहीं है या इसे चला जाता है                                  \n",
      "भारत [UNK] की [UNK] वक्त [UNK] [UNK] यह है कि यह [UNK] [UNK] [UNK] [UNK] है                                  \n",
      "[UNK] [UNK] [UNK] को [UNK]                                             \n",
      "\n"
     ]
    }
   ],
   "source": [
    "result = reloaded.translate(tf.constant(inputs2))\n",
    "\n",
    "print(result[0].numpy().decode())\n",
    "print(result[1].numpy().decode())\n",
    "print(result[2].numpy().decode())\n",
    "print()"
   ]
  }
 ],
 "metadata": {
  "kernelspec": {
   "display_name": "tf-gpu",
   "language": "python",
   "name": "python3"
  },
  "language_info": {
   "codemirror_mode": {
    "name": "ipython",
    "version": 3
   },
   "file_extension": ".py",
   "mimetype": "text/x-python",
   "name": "python",
   "nbconvert_exporter": "python",
   "pygments_lexer": "ipython3",
   "version": "3.9.16"
  },
  "orig_nbformat": 4
 },
 "nbformat": 4,
 "nbformat_minor": 2
}
